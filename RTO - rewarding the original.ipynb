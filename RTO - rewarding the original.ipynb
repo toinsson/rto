{
 "cells": [
  {
   "cell_type": "markdown",
   "metadata": {},
   "source": [
    "# Rewarding the original"
   ]
  },
  {
   "cell_type": "markdown",
   "metadata": {},
   "source": [
    "Mahalanobis distance (or \"generalized squared interpoint distance\" for its squared value[3]) can also be defined as a dissimilarity measure between two random vectors ${\\underline {x}}$  and ${\\underline {y}}$ of the same distribution with the covariance matrix S:\n",
    "\n",
    "$$ d({\\vec {x}},{\\vec {y}})={\\sqrt {({\\vec {x}}-{\\vec {y}})^{T}S^{-1}({\\vec {x}}-{\\vec {y}})}}.\\,$$"
   ]
  },
  {
   "cell_type": "code",
   "execution_count": null,
   "metadata": {
    "collapsed": false
   },
   "outputs": [],
   "source": [
    "%matplotlib inline\n",
    "import matplotlib\n",
    "import matplotlib.pyplot as plt\n",
    "import numpy as np\n",
    "matplotlib.rcParams['figure.figsize'] = (18.0, 10.0)\n"
   ]
  },
  {
   "cell_type": "code",
   "execution_count": null,
   "metadata": {
    "collapsed": false
   },
   "outputs": [],
   "source": [
    "# make sure you have the \n",
    "import rto"
   ]
  },
  {
   "cell_type": "markdown",
   "metadata": {},
   "source": [
    "# Filtering and interpolation of axis"
   ]
  },
  {
   "cell_type": "markdown",
   "metadata": {},
   "source": [
    "### generate some sample data"
   ]
  },
  {
   "cell_type": "code",
   "execution_count": null,
   "metadata": {
    "collapsed": false
   },
   "outputs": [],
   "source": [
    "## generate some samples\n",
    "nsamples = 20\n",
    "samples_t = np.cumsum(np.random.uniform(11,500, nsamples).astype(int))\n",
    "samples_x = 100 * np.random.random((nsamples))"
   ]
  },
  {
   "cell_type": "code",
   "execution_count": null,
   "metadata": {
    "collapsed": false
   },
   "outputs": [],
   "source": [
    "plt.plot(samples_t, samples_x, linestyle='--', marker='o')"
   ]
  },
  {
   "cell_type": "markdown",
   "metadata": {},
   "source": [
    "## filter with axisfilter\n",
    "\n",
    "The input paramters are stepsize, order and window. In this example case, order doesn't  matter since we are plotting only the position. Stepsize tells the step for linear interpolation between last sample and current sample, window tells the number of sample taken to average over."
   ]
  },
  {
   "cell_type": "code",
   "execution_count": null,
   "metadata": {
    "collapsed": false
   },
   "outputs": [],
   "source": [
    "axisfilter_0 = rto.AxisFilter(10, 2, 20)\n",
    "axisfilter_1 = rto.AxisFilter(10, 2, 100)"
   ]
  },
  {
   "cell_type": "code",
   "execution_count": null,
   "metadata": {
    "collapsed": false
   },
   "outputs": [],
   "source": [
    "t, x = [],[]\n",
    "axisfilter = axisfilter_0\n",
    "for sample_t, sample_x in zip(samples_t, samples_x):\n",
    "    axisfilter.new_sample(sample_t, sample_x)\n",
    "    t = np.hstack((t, axisfilter.interpolator.time_steps))\n",
    "    x = np.hstack((x, axisfilter.samples[:,0]))\n",
    "t0, x0 = t.copy(), x.copy()\n",
    "    \n",
    "t, x = [],[]\n",
    "axisfilter = axisfilter_1\n",
    "for sample_t, sample_x in zip(samples_t, samples_x):\n",
    "    axisfilter_1.new_sample(sample_t, sample_x)\n",
    "    t = np.hstack((t, axisfilter.interpolator.time_steps))\n",
    "    x = np.hstack((x, axisfilter.samples[:,0]))\n",
    "t1, x1 = t.copy(), x.copy()\n"
   ]
  },
  {
   "cell_type": "code",
   "execution_count": null,
   "metadata": {
    "collapsed": false,
    "scrolled": true
   },
   "outputs": [],
   "source": [
    "plt.plot(samples_t, samples_x, t0, x0, t1, x1, linestyle='--', marker='o')"
   ]
  },
  {
   "cell_type": "markdown",
   "metadata": {},
   "source": [
    "# Using MotionExplorer"
   ]
  },
  {
   "cell_type": "code",
   "execution_count": null,
   "metadata": {
    "collapsed": true
   },
   "outputs": [],
   "source": [
    "import rto"
   ]
  },
  {
   "cell_type": "code",
   "execution_count": null,
   "metadata": {
    "collapsed": true
   },
   "outputs": [],
   "source": [
    "rto = reload(rto)"
   ]
  },
  {
   "cell_type": "code",
   "execution_count": null,
   "metadata": {
    "collapsed": true
   },
   "outputs": [],
   "source": [
    "## generate some samples\n",
    "nsamples = 100\n",
    "samples_t = np.cumsum(np.random.uniform(11,100, nsamples).astype(int))\n",
    "samples_x = np.hstack((50 * np.random.random((nsamples/2)), 150 * np.random.random((nsamples/2))))"
   ]
  },
  {
   "cell_type": "code",
   "execution_count": null,
   "metadata": {
    "collapsed": false
   },
   "outputs": [],
   "source": [
    "mexp = rto.MotionExplorer(inputdim = 1, order = 2, start_buffer = 1, periodic_recompute = 1)"
   ]
  },
  {
   "cell_type": "code",
   "execution_count": null,
   "metadata": {
    "collapsed": false,
    "scrolled": true
   },
   "outputs": [],
   "source": [
    "t, x, d, v = [],[],[],[]\n",
    "for sample_t, sample_x in zip(samples_t, samples_x):\n",
    "    d_, _ = mexp.new_sample(sample_t, (sample_x, ))\n",
    "    d = np.hstack((d, [d_]))\n",
    "    t = np.hstack((t, mexp.axis[0].interpolator.time_steps))\n",
    "    x = np.hstack((x, mexp.axis[0].samples[:,0]))\n",
    "    v = np.hstack((v, mexp.axis[0].samples[:,1]))"
   ]
  },
  {
   "cell_type": "markdown",
   "metadata": {},
   "source": [
    "Plotting the original input position, the filtered position and computed velocity from the Savitsky Golay filter, as well as the dissimilarity measure for each sample. We can notice that over time the dissimilarity measure is going down over time as the input position is sample within the same distribution. However, at the middle of the original sampling the magnitude of the input of increased, leading to another period of dissimilarity until this new distribution is captured and the dissimilarity measure tends back to 0."
   ]
  },
  {
   "cell_type": "code",
   "execution_count": null,
   "metadata": {
    "collapsed": false
   },
   "outputs": [],
   "source": [
    "plt.subplot(211)\n",
    "plt.plot(samples_t, samples_x, t, x, t, 10*v, samples_t, d, 'o')\n",
    "plt.subplot(212)\n",
    "plt.plot(d, 'o')"
   ]
  },
  {
   "cell_type": "markdown",
   "metadata": {},
   "source": [
    "# SOM"
   ]
  },
  {
   "cell_type": "code",
   "execution_count": null,
   "metadata": {
    "collapsed": false
   },
   "outputs": [],
   "source": [
    "jake_observations = np.load('jake_observations.npy')"
   ]
  },
  {
   "cell_type": "code",
   "execution_count": null,
   "metadata": {
    "collapsed": false
   },
   "outputs": [],
   "source": [
    "import som\n",
    "som = reload(som)\n",
    "som_map = som.SOM(48,48,12)\n",
    "som_map.learn(jake_observations, epochs=50000)"
   ]
  },
  {
   "cell_type": "code",
   "execution_count": null,
   "metadata": {
    "collapsed": false
   },
   "outputs": [],
   "source": [
    "# for v in range(12):\n",
    "for v in [0,4,8,1,5,9,2,6,10,3,7,11]:\n",
    "    plt.figure()\n",
    "    plt.imshow(som_map.codebook[:,:,v], cmap=\"magma\", interpolation=\"nearest\")\n",
    "    plt.axis(\"off\")"
   ]
  },
  {
   "cell_type": "code",
   "execution_count": null,
   "metadata": {
    "collapsed": false
   },
   "outputs": [],
   "source": [
    "import scipy.spatial.distance\n",
    "\n",
    "def umatrix(codebook):\n",
    "    ## take the average HD distance to all neighbours within\n",
    "    ## certain radius in the 2D distance    \n",
    "    x_code, y_code = np.meshgrid(np.arange(codebook.shape[0]), np.arange(codebook.shape[1]))\n",
    "    hdmatrix = codebook.reshape(codebook.shape[0]*codebook.shape[1], codebook.shape[2])    \n",
    "    hd_distance = scipy.spatial.distance.squareform(scipy.spatial.distance.pdist(hdmatrix))**2\n",
    "    ld_distance = scipy.spatial.distance.squareform(scipy.spatial.distance.pdist(np.vstack([x_code.ravel(), y_code.ravel()]).T))\n",
    "    return np.mean(hd_distance * (np.logical_and(ld_distance>0,ld_distance<1.5)),axis=1).reshape(codebook.shape[0], codebook.shape[1])\n",
    "    \n",
    "plt.figure(figsize=(14,14))    \n",
    "um = umatrix(som_map.codebook)    \n",
    "plt.imshow(um, interpolation=\"nearest\", cmap=\"viridis\")\n",
    "plt.grid(\"off\")"
   ]
  },
  {
   "cell_type": "markdown",
   "metadata": {},
   "source": [
    "# ISOMAP and trajectory from synthetic data"
   ]
  },
  {
   "cell_type": "code",
   "execution_count": null,
   "metadata": {
    "collapsed": true
   },
   "outputs": [],
   "source": [
    "import sklearn\n",
    "from sklearn import manifold"
   ]
  },
  {
   "cell_type": "code",
   "execution_count": null,
   "metadata": {
    "collapsed": false
   },
   "outputs": [],
   "source": [
    "isomap = manifold.Isomap(n_neighbors=25)\n",
    "isomap.fit(jake_observations)\n",
    "xy = isomap.transform(jake_observations)\n",
    "orig_xy = np.array(xy)"
   ]
  },
  {
   "cell_type": "markdown",
   "metadata": {},
   "source": [
    "## generate synthetic data\n",
    "\n",
    "We generate two different motions representing orthogonal rotations around X and Y axis, we get the output from the motion explorer for all samples and plot it on the isomap generated from the sample run."
   ]
  },
  {
   "cell_type": "code",
   "execution_count": null,
   "metadata": {
    "collapsed": false
   },
   "outputs": [],
   "source": [
    "stepsize = 10\n",
    "samples_t = np.arange(10, 4000, stepsize)\n",
    "\n",
    "cosdata = np.cos(2*np.pi/1000*samples_t)[:,None]\n",
    "sindata = np.sin(2*np.pi/1000*samples_t)[:,None]\n",
    "zerosdata = np.zeros((samples_t.shape + (1,)))\n",
    "                     \n",
    "rot_x = 1000 * np.hstack((zerosdata, cosdata, sindata))\n",
    "rot_y = 1000 * np.hstack((cosdata, zerosdata, sindata))\n",
    "rot_z = 1000 * np.hstack((cosdata, sindata, zerosdata))"
   ]
  },
  {
   "cell_type": "code",
   "execution_count": null,
   "metadata": {
    "collapsed": false
   },
   "outputs": [],
   "source": [
    "plt.plot(samples_t, rot_x[:,1])"
   ]
  },
  {
   "cell_type": "code",
   "execution_count": null,
   "metadata": {
    "collapsed": false,
    "scrolled": true
   },
   "outputs": [],
   "source": [
    "order = 4\n",
    "mexp_jake = rto.MotionExplorer(inputdim = 3, order = order, window = 100)\n",
    "mexp_output = np.zeros((samples_t.shape[0], 12))\n",
    "\n",
    "## get the output filtering from the JAKE for all the sample points\n",
    "for i, (t, v) in enumerate(zip(samples_t, rot_x)):\n",
    "    mexp_jake.new_sample(t, v)\n",
    "    mexp_output[i] = mexp_jake.last_sample\n",
    "rotx_xy = isomap.transform(mexp_output)\n",
    "\n",
    "mexp_jake = rto.MotionExplorer(inputdim = 3, order = order, window = 100)\n",
    "for i, (t, v) in enumerate(zip(samples_t, rot_y)):\n",
    "    mexp_jake.new_sample(t, v)\n",
    "    mexp_output[i] = mexp_jake.last_sample\n",
    "roty_xy = isomap.transform(mexp_output)\n",
    "\n",
    "mexp_jake = rto.MotionExplorer(inputdim = 3, order = order, window = 100)\n",
    "for i, (t, v) in enumerate(zip(samples_t, rot_z)):\n",
    "    mexp_jake.new_sample(t, v)\n",
    "    mexp_output[i] = mexp_jake.last_sample\n",
    "rotz_xy = isomap.transform(mexp_output)"
   ]
  },
  {
   "cell_type": "markdown",
   "metadata": {},
   "source": [
    "Due to the filtering nature of the motion explorer, there is a lag in position."
   ]
  },
  {
   "cell_type": "code",
   "execution_count": null,
   "metadata": {
    "collapsed": false
   },
   "outputs": [],
   "source": [
    "plt.plot(samples_t, rot_x[:,1], samples_t, mexp_output[:,0])"
   ]
  },
  {
   "cell_type": "code",
   "execution_count": null,
   "metadata": {
    "collapsed": false,
    "scrolled": true
   },
   "outputs": [],
   "source": [
    "start = 0\n",
    "plt.xlim([-2000,2000])\n",
    "plt.ylim([-2000,2000])\n",
    "plt.scatter(xy[:,0], xy[:,1])\n",
    "plt.plot(rotx_xy[:,0], rotx_xy[:,1], 'r')\n",
    "plt.plot(roty_xy[:,0], roty_xy[:,1], 'b')\n",
    "plt.plot(rotz_xy[:,0], rotz_xy[:,1], 'g')\n"
   ]
  },
  {
   "cell_type": "markdown",
   "metadata": {},
   "source": [
    "This synthetic data compare two rotations with period 1000 and 100. Note that the filtering induces a different amplitude too, since the filter might not be able to cope with frequency."
   ]
  },
  {
   "cell_type": "code",
   "execution_count": null,
   "metadata": {
    "collapsed": true
   },
   "outputs": [],
   "source": [
    "stepsize = 10\n",
    "samples_t = np.arange(10, 4000, stepsize)\n",
    "\n",
    "cosdata = np.cos(2*np.pi/100*samples_t)[:,None]\n",
    "sindata = np.sin(2*np.pi/100*samples_t)[:,None]\n",
    "zerosdata = np.zeros((samples_t.shape + (1,)))\n",
    "                     \n",
    "smallrot_x = 1000 * np.hstack((zerosdata, cosdata, sindata))\n",
    "# rot_y = 1000 * np.hstack((cosdata, zerosdata, sindata))\n",
    "# rot_z = 1000 * np.hstack((cosdata, sindata, zerosdata))"
   ]
  },
  {
   "cell_type": "code",
   "execution_count": null,
   "metadata": {
    "collapsed": true
   },
   "outputs": [],
   "source": [
    "order = 4\n",
    "mexp_jake = rto.MotionExplorer(inputdim = 3, order = order, window = 100)\n",
    "mexp_output = np.zeros((samples_t.shape[0], 12))\n",
    "\n",
    "## get the output filtering from the JAKE for all the sample points\n",
    "for i, (t, v) in enumerate(zip(samples_t, smallrot_x)):\n",
    "    mexp_jake.new_sample(t, v)\n",
    "    mexp_output[i] = mexp_jake.last_sample\n",
    "smallrotx_xy = isomap.transform(mexp_output)\n"
   ]
  },
  {
   "cell_type": "code",
   "execution_count": null,
   "metadata": {
    "collapsed": false
   },
   "outputs": [],
   "source": [
    "start = 0\n",
    "plt.xlim([-2000,2000])\n",
    "plt.ylim([-2000,2000])\n",
    "plt.scatter(xy[:,0], xy[:,1])\n",
    "plt.plot(rotx_xy[:,0], rotx_xy[:,1], 'r')\n",
    "plt.plot(smallrotx_xy[:,0], smallrotx_xy[:,1], 'b')\n",
    "# plt.plot(rotz_xy[:,0], rotz_xy[:,1], 'g')"
   ]
  },
  {
   "cell_type": "markdown",
   "metadata": {},
   "source": [
    "# Stream data from Android devices\n",
    "\n",
    "Use the following app:\n",
    "http://sensorstream-imu-gps.android.informer.com/\n",
    "\n",
    "Set the target IP to your computer IP."
   ]
  },
  {
   "cell_type": "code",
   "execution_count": null,
   "metadata": {
    "collapsed": false
   },
   "outputs": [],
   "source": [
    "import socket, traceback\n",
    "import time\n",
    "host = ''\n",
    "port = 5555\n",
    "\n",
    "s = socket.socket(socket.AF_INET, socket.SOCK_DGRAM)\n",
    "s.setsockopt(socket.SOL_SOCKET, socket.SO_REUSEADDR, 1)\n",
    "s.setsockopt(socket.SOL_SOCKET, socket.SO_BROADCAST, 1)\n",
    "s.bind((host, port))\n",
    "\n",
    "def get_time_ms(): return int(round(time.time() * 1000))\n",
    "\n",
    "time_now = 0\n",
    "for _ in range(100):\n",
    "    time_now = get_time_ms()\n",
    "\n",
    "    try:\n",
    "        data = s.recvfrom(8192)\n",
    "    except (KeyboardInterrupt, SystemExit):\n",
    "        data = None\n",
    "        pass\n",
    "\n",
    "    print (get_time_ms() - time_now), data"
   ]
  },
  {
   "cell_type": "code",
   "execution_count": null,
   "metadata": {
    "collapsed": true
   },
   "outputs": [],
   "source": []
  }
 ],
 "metadata": {
  "kernelspec": {
   "display_name": "Python 2",
   "language": "python",
   "name": "python2"
  },
  "language_info": {
   "codemirror_mode": {
    "name": "ipython",
    "version": 2
   },
   "file_extension": ".py",
   "mimetype": "text/x-python",
   "name": "python",
   "nbconvert_exporter": "python",
   "pygments_lexer": "ipython2",
   "version": "2.7.11"
  }
 },
 "nbformat": 4,
 "nbformat_minor": 0
}
